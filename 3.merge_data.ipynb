{
 "cells": [
  {
   "cell_type": "code",
   "execution_count": 1,
   "id": "45a693ec",
   "metadata": {},
   "outputs": [],
   "source": [
    "# To run this file, configure the left_trim_len and trim_length parameters in the config_temp.csv file \n",
    "# based on the visualization results in the quality_filtered_sequences_demux_dir directory. \n",
    "# Save the modified configuration as config.csv.\n",
    "# The required config.csv file for this script has already been configured.\n",
    "import os\n",
    "import pandas as pd\n",
    "import qiime2\n",
    "from qiime2.plugins import ( deblur, taxa, feature_classifier, feature_table)\n",
    "from tqdm import tqdm\n",
    "\n",
    "\n",
    "base_dir = os.getcwd()\n",
    "data_dir = os.path.join(base_dir, 'data')\n",
    "# gg_2022_10_backbone_full_length.nb.qza: A full-length 16S rRNA phylogenetic tree file from the October 2022 release of \n",
    "# the Greengenes 2 (GG2) database.\n",
    "classifier_path = os.path.join(data_dir, 'gg_2022_10_backbone_full_length.nb.qza')\n",
    "\n",
    "results_dir = os.path.join(base_dir, 'results')\n",
    "quality_filtered_sequences_dir = os.path.join(results_dir, 'quality_filtered_sequences')\n",
    "\n",
    "# rep_seqs_dir: Stores representative sequences\n",
    "rep_seqs_dir = os.path.join(results_dir, 'rep_seqs')\n",
    "if not os.path.exists(rep_seqs_dir):\n",
    "    os.makedirs(rep_seqs_dir)\n",
    "\n",
    "# table_dir: Stores feature tables\n",
    "table_dir = os.path.join(results_dir, 'table')\n",
    "if not os.path.exists(table_dir):\n",
    "    os.makedirs(table_dir)\n",
    "\n",
    "# merged_dir: Stores merged results from all projects\n",
    "merged_dir = os.path.join(results_dir, 'merged')\n",
    "if not os.path.exists(merged_dir):\n",
    "    os.makedirs(merged_dir)\n",
    "\n",
    "\n",
    "# sample_metadata.txt: Sample metadata manually configured according to each project.\n",
    "merged_sample_metadata = qiime2.Metadata.load(os.path.join(data_dir, 'sample_metadata.txt'))\n",
    "merged_sample_metadata_df = pd.read_csv(os.path.join(data_dir, 'sample_metadata.txt'), sep='\\t' )\n",
    "\n",
    "config_df = pd.read_csv(os.path.join(data_dir, 'config.csv'))\n",
    "gg_classifier = qiime2.Artifact.load(classifier_path)"
   ]
  },
  {
   "cell_type": "code",
   "execution_count": 2,
   "id": "3995abae",
   "metadata": {},
   "outputs": [
    {
     "name": "stderr",
     "output_type": "stream",
     "text": [
      "0it [00:00, ?it/s]"
     ]
    },
    {
     "name": "stdout",
     "output_type": "stream",
     "text": [
      "PRJNA924021 start! \n"
     ]
    },
    {
     "name": "stderr",
     "output_type": "stream",
     "text": [
      "/home/gaoyuze/anaconda3/envs/qiime2-2023.7/bin/deblur:534: DeprecationWarning: The 'warn' method is deprecated, use 'warning' instead\n",
      "  logger.warn('deblur version %s workflow started on %s' %\n",
      "/home/gaoyuze/anaconda3/envs/qiime2-2023.7/bin/deblur:536: DeprecationWarning: The 'warn' method is deprecated, use 'warning' instead\n",
      "  logger.warn('parameters: %s' % locals())\n",
      "1it [01:45, 105.34s/it]"
     ]
    },
    {
     "name": "stdout",
     "output_type": "stream",
     "text": [
      "PRJNA924021 end! \n",
      "PRJEB14602 start! \n"
     ]
    },
    {
     "name": "stderr",
     "output_type": "stream",
     "text": [
      "/home/gaoyuze/anaconda3/envs/qiime2-2023.7/bin/deblur:534: DeprecationWarning: The 'warn' method is deprecated, use 'warning' instead\n",
      "  logger.warn('deblur version %s workflow started on %s' %\n",
      "/home/gaoyuze/anaconda3/envs/qiime2-2023.7/bin/deblur:536: DeprecationWarning: The 'warn' method is deprecated, use 'warning' instead\n",
      "  logger.warn('parameters: %s' % locals())\n",
      "2it [04:34, 137.34s/it]"
     ]
    },
    {
     "name": "stdout",
     "output_type": "stream",
     "text": [
      "PRJEB14602 end! \n"
     ]
    },
    {
     "name": "stderr",
     "output_type": "stream",
     "text": [
      "\n",
      "/home/gaoyuze/anaconda3/envs/qiime2-2023.7/lib/python3.8/site-packages/q2_types/feature_data/_transformer.py:258: FutureWarning: iteritems is deprecated and will be removed in a future version. Use .items instead.\n",
      "  for id_, seq in data.iteritems():\n"
     ]
    },
    {
     "name": "stdout",
     "output_type": "stream",
     "text": [
      "table & rep seqs merged!\n",
      "merged_taxonomy_class saved!\n",
      "merged table cleaned!\n"
     ]
    },
    {
     "name": "stderr",
     "output_type": "stream",
     "text": [
      "/home/gaoyuze/anaconda3/envs/qiime2-2023.7/lib/python3.8/site-packages/q2_types/feature_data/_transformer.py:258: FutureWarning: iteritems is deprecated and will be removed in a future version. Use .items instead.\n",
      "  for id_, seq in data.iteritems():\n"
     ]
    },
    {
     "name": "stdout",
     "output_type": "stream",
     "text": [
      "merged rep seqs generated!\n",
      "STEP 3  Done!\n"
     ]
    }
   ],
   "source": [
    "# Performs denoising on 16S rRNA sequences in each project using denoise_16S to generate feature tables and representative sequences, \n",
    "# and finally merges the results from all projects into a single dataset.\n",
    "table_list = []\n",
    "rep_seqs_list = []\n",
    "for index, row in tqdm(config_df.iterrows()):\n",
    "    print(row['project'] + ' start! ')\n",
    "    quality_filtered_sequences = qiime2.Artifact.load(os.path.join(quality_filtered_sequences_dir, row['project'] + '.qza'))\n",
    "    table, rep_seqs, deblur_stats = deblur.methods.denoise_16S(quality_filtered_sequences,\n",
    "                                                                left_trim_len = row['left_trim_len'],\n",
    "                                                                trim_length = row['trim_length'],\n",
    "                                                                sample_stats = True,\n",
    "                                                                jobs_to_start = 16)\n",
    "    table.save(os.path.join(table_dir, row['project']))\n",
    "    rep_seqs.save(os.path.join(rep_seqs_dir, row['project']))\n",
    "    table_list.append(table)\n",
    "    rep_seqs_list.append(rep_seqs)\n",
    "    print(row['project'] + ' end! ')\n",
    "\n",
    "merged_table = feature_table.methods.merge(table_list).merged_table\n",
    "merged_table.save(os.path.join(merged_dir, 'merged_table_clean_original'))\n",
    "merged_rep_seqs = feature_table.methods.merge_seqs(rep_seqs_list).merged_data\n",
    "merged_rep_seqs.save(os.path.join(merged_dir, 'merged_rep_seqs_original'))\n",
    "\n",
    "print('table & rep seqs merged!')\n",
    "\n",
    "# Annotates representative sequences using the gg_classifier.\n",
    "merged_taxonomy_class = feature_classifier.methods.classify_sklearn(reads=merged_rep_seqs,\n",
    "                                                                    classifier=gg_classifier,\n",
    "                                                                    n_jobs = 16).classification\n",
    "merged_taxonomy_class.save(os.path.join(merged_dir, 'merged_taxonomy_class'))\n",
    "\n",
    "print('merged_taxonomy_class saved!')\n",
    "\n",
    "merged_table_clean = taxa.methods.filter_table(table = merged_table, \n",
    "                                               taxonomy = merged_taxonomy_class, \n",
    "                                               exclude = 'mitochondria,chloroplast').filtered_table\n",
    "\n",
    "merged_table_clean = feature_table.methods.filter_features(merged_table_clean, min_samples=2).filtered_table\n",
    "\n",
    "min_frequency = 1000\n",
    "# filter sample by min_frequency\n",
    "merged_table_clean = feature_table.methods.filter_samples(merged_table_clean, \n",
    "                                                          min_frequency= min_frequency,\n",
    "                                                          metadata = merged_sample_metadata\n",
    "                                                          ).filtered_table\n",
    "merged_table_clean.save(os.path.join(merged_dir, 'merged_table_clean'))\n",
    "print('merged table cleaned!')\n",
    "\n",
    "# filter representative sequences based on the cleaned feature table\n",
    "merged_rep_seqs = feature_table.methods.filter_seqs(data = merged_rep_seqs, \n",
    "                                                    table = merged_table_clean).filtered_data\n",
    "merged_rep_seqs.save(os.path.join(merged_dir, 'merged_rep_seqs'))\n",
    "print('merged rep seqs generated!')\n",
    "\n",
    "\n",
    "print('STEP 3  Done!')"
   ]
  }
 ],
 "metadata": {
  "kernelspec": {
   "display_name": "qiime2-2023.7",
   "language": "python",
   "name": "python3"
  },
  "language_info": {
   "codemirror_mode": {
    "name": "ipython",
    "version": 3
   },
   "file_extension": ".py",
   "mimetype": "text/x-python",
   "name": "python",
   "nbconvert_exporter": "python",
   "pygments_lexer": "ipython3",
   "version": "3.8.15"
  }
 },
 "nbformat": 4,
 "nbformat_minor": 5
}
