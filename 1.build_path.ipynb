{
 "cells": [
  {
   "cell_type": "code",
   "execution_count": 1,
   "id": "d617b3ce",
   "metadata": {},
   "outputs": [],
   "source": [
    "import os\n",
    "import pandas as pd\n",
    "from tqdm import tqdm\n",
    "\n",
    "base_dir = os.getcwd()\n",
    "\n",
    "# projects_dir: Stores sequence files for each project\n",
    "projects_dir = os.path.join(base_dir, 'projects')\n",
    "# data_dir: Stores various configuration files\n",
    "data_dir = os.path.join(base_dir, 'data')\n",
    "# input_path_dir: Stores absolute paths of sequence files\n",
    "input_path_dir = os.path.join(base_dir, 'input_path')"
   ]
  },
  {
   "cell_type": "code",
   "execution_count": 3,
   "id": "bdaf6ada",
   "metadata": {},
   "outputs": [
    {
     "name": "stderr",
     "output_type": "stream",
     "text": [
      "0it [00:00, ?it/s]"
     ]
    },
    {
     "name": "stderr",
     "output_type": "stream",
     "text": [
      "2it [00:00, 35.01it/s]"
     ]
    },
    {
     "name": "stdout",
     "output_type": "stream",
     "text": [
      "/home/gaoyuze/symbiotic_microbiota_analysis/projects/PRJNA924021\n",
      "/home/gaoyuze/symbiotic_microbiota_analysis/projects/PRJEB14602\n",
      "STEP 1 Done!\n"
     ]
    },
    {
     "name": "stderr",
     "output_type": "stream",
     "text": [
      "\n"
     ]
    }
   ],
   "source": [
    "project_list = os.listdir(projects_dir)\n",
    "project_list_dir = [os.path.join(projects_dir, item) for item in project_list]\n",
    "\n",
    "config_temp_df = pd.DataFrame(columns=['project', 'seq_type', 'left_trim_len', 'trim_length'])\n",
    "config_temp_df['project'] = project_list\n",
    "seq_type = []\n",
    "\n",
    "for project_dir_index, project_dir_item in tqdm(enumerate(project_list_dir)):\n",
    "    print(project_dir_item)\n",
    "    # list all fastq.gz files in each project directory\n",
    "    sample_list = os.listdir(project_dir_item)\n",
    "    sample_list = [sample for sample in sample_list if sample.endswith('.fastq.gz')]\n",
    "    sample_list.sort()\n",
    "    sample_name_list = [sample[:-9] for sample in sample_list]\n",
    "    abs_path_list = [os.path.join(projects_dir, project_list[project_dir_index], sample) for sample in sample_list]\n",
    "    # generate absolute paths for pair and single sample\n",
    "    if sample_name_list[0][-2] == '_':\n",
    "        seq_type.append('pair')\n",
    "        sample_name_list = [sample_name[:-2] for sample_name in sample_name_list[::2]]\n",
    "        input_path_df = pd.DataFrame(columns=['sample-id','forward-absolute-filepath','reverse-absolute-filepath'])\n",
    "        input_path_df['sample-id'] = sample_name_list\n",
    "        input_path_df['forward-absolute-filepath'] = abs_path_list[::2]\n",
    "        input_path_df['reverse-absolute-filepath'] = abs_path_list[1::2]\n",
    "    else:\n",
    "        seq_type.append('single')\n",
    "        input_path_df = pd.DataFrame(columns=['sample-id','absolute-filepath'])\n",
    "        input_path_df['sample-id'] = sample_name_list\n",
    "        input_path_df['absolute-filepath'] = abs_path_list\n",
    "    input_path_df.to_csv(os.path.join(input_path_dir, project_list[project_dir_index] +'.txt'), sep='\\t', index=False)\n",
    "config_temp_df['seq_type'] = seq_type\n",
    "config_temp_df.to_csv(os.path.join(data_dir, 'config_temp.csv'), index=False)\n",
    "print('STEP 1 Done!')"
   ]
  }
 ],
 "metadata": {
  "kernelspec": {
   "display_name": "qiime2-2023.7",
   "language": "python",
   "name": "python3"
  },
  "language_info": {
   "codemirror_mode": {
    "name": "ipython",
    "version": 3
   },
   "file_extension": ".py",
   "mimetype": "text/x-python",
   "name": "python",
   "nbconvert_exporter": "python",
   "pygments_lexer": "ipython3",
   "version": "3.8.15"
  }
 },
 "nbformat": 4,
 "nbformat_minor": 5
}
