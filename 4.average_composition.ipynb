{
 "cells": [
  {
   "cell_type": "code",
   "execution_count": 42,
   "id": "e7041a53",
   "metadata": {},
   "outputs": [],
   "source": [
    "import os\n",
    "import pandas as pd\n",
    "import biom\n",
    "import qiime2\n",
    "from qiime2.plugins import (taxa)\n",
    "from tqdm import tqdm\n",
    "\n",
    "\n",
    "base_dir = os.getcwd()\n",
    "data_dir = os.path.join(base_dir, 'data')\n",
    "results_dir = os.path.join(base_dir, 'results')\n",
    "merged_dir = os.path.join(results_dir, 'merged')\n",
    "\n",
    "# merged_composition_dir: Store the feature table at specified taxonomic level (FeatureTable[Frequency]) \n",
    "merged_composition_dir = os.path.join(merged_dir, 'merged_composition')\n",
    "merged_composition_by_bodysite_dir = os.path.join(merged_dir, 'merged_composition_by_bodysite')"
   ]
  },
  {
   "cell_type": "code",
   "execution_count": 43,
   "id": "4d05d5ab",
   "metadata": {},
   "outputs": [
    {
     "name": "stderr",
     "output_type": "stream",
     "text": [
      "  0%|          | 0/6 [00:00<?, ?it/s]"
     ]
    },
    {
     "name": "stderr",
     "output_type": "stream",
     "text": [
      "/tmp/ipykernel_3105355/3517482344.py:15: FutureWarning: The behavior of .astype from SparseDtype to a non-sparse dtype is deprecated. In a future version, this will return a non-sparse array with the requested dtype. To retain the old behavior, use `obj.astype(SparseDtype(dtype))`\n",
      "  temp.to_csv(os.path.join(merged_composition_dir, 'level-' + str(i) + '.csv'))\n",
      " 17%|█▋        | 1/6 [00:00<00:01,  2.81it/s]/tmp/ipykernel_3105355/3517482344.py:15: FutureWarning: The behavior of .astype from SparseDtype to a non-sparse dtype is deprecated. In a future version, this will return a non-sparse array with the requested dtype. To retain the old behavior, use `obj.astype(SparseDtype(dtype))`\n",
      "  temp.to_csv(os.path.join(merged_composition_dir, 'level-' + str(i) + '.csv'))\n",
      " 33%|███▎      | 2/6 [00:00<00:01,  2.72it/s]/tmp/ipykernel_3105355/3517482344.py:15: FutureWarning: The behavior of .astype from SparseDtype to a non-sparse dtype is deprecated. In a future version, this will return a non-sparse array with the requested dtype. To retain the old behavior, use `obj.astype(SparseDtype(dtype))`\n",
      "  temp.to_csv(os.path.join(merged_composition_dir, 'level-' + str(i) + '.csv'))\n",
      " 50%|█████     | 3/6 [00:01<00:01,  2.40it/s]/tmp/ipykernel_3105355/3517482344.py:15: FutureWarning: The behavior of .astype from SparseDtype to a non-sparse dtype is deprecated. In a future version, this will return a non-sparse array with the requested dtype. To retain the old behavior, use `obj.astype(SparseDtype(dtype))`\n",
      "  temp.to_csv(os.path.join(merged_composition_dir, 'level-' + str(i) + '.csv'))\n",
      " 67%|██████▋   | 4/6 [00:01<00:00,  2.06it/s]/tmp/ipykernel_3105355/3517482344.py:15: FutureWarning: The behavior of .astype from SparseDtype to a non-sparse dtype is deprecated. In a future version, this will return a non-sparse array with the requested dtype. To retain the old behavior, use `obj.astype(SparseDtype(dtype))`\n",
      "  temp.to_csv(os.path.join(merged_composition_dir, 'level-' + str(i) + '.csv'))\n",
      " 83%|████████▎ | 5/6 [00:03<00:00,  1.32it/s]/tmp/ipykernel_3105355/3517482344.py:15: FutureWarning: The behavior of .astype from SparseDtype to a non-sparse dtype is deprecated. In a future version, this will return a non-sparse array with the requested dtype. To retain the old behavior, use `obj.astype(SparseDtype(dtype))`\n",
      "  temp.to_csv(os.path.join(merged_composition_dir, 'level-' + str(i) + '.csv'))\n",
      "100%|██████████| 6/6 [00:04<00:00,  1.45it/s]"
     ]
    },
    {
     "name": "stdout",
     "output_type": "stream",
     "text": [
      "STEP 4  Done!\n"
     ]
    },
    {
     "name": "stderr",
     "output_type": "stream",
     "text": [
      "\n"
     ]
    }
   ],
   "source": [
    "# Load the merged feature table and taxonomy class\n",
    "merged_table_clean = qiime2.Artifact.load(os.path.join(merged_dir, 'merged_table_clean.qza'))\n",
    "merged_taxonomy_class = qiime2.Artifact.load(os.path.join(merged_dir, 'merged_taxonomy_class.qza'))\n",
    "\n",
    "# Merges sequence features in the feature table according to the specified taxonomic level level = i (e.g., genus, family, phylum)\n",
    "tax_list = ['', '', 'p__', 'c__', 'o__', 'f__', 'g__', 's__']\n",
    "for i in tqdm(range(2,8)):\n",
    "    temp = taxa.methods.collapse(merged_table_clean, merged_taxonomy_class, level = i).collapsed_table\n",
    "    temp = temp.view(biom.Table).to_dataframe().T\n",
    "    row_sums = temp.sum(axis=1)\n",
    "    temp = temp.div(row_sums, axis=0) * 100\n",
    "    temp = temp.fillna(0)\n",
    "    temp = temp.filter(like=tax_list[i])\n",
    "    temp = temp.loc[:, (temp != 0).any(axis=0)]\n",
    "    temp.to_csv(os.path.join(merged_composition_dir, 'level-' + str(i) + '.csv'))\n",
    "print('STEP 4  Done!')\n"
   ]
  },
  {
   "cell_type": "code",
   "execution_count": 44,
   "id": "e70e66c3",
   "metadata": {},
   "outputs": [],
   "source": [
    "microbiota_taxonomy_type_dict = {'Phylum':2, 'Class':3, 'Order':4, 'Family':5,'Genus':6, 'Species':7}\n",
    "merged_sample_metadata_df = pd.read_csv(os.path.join(data_dir, 'sample_metadata.txt'), sep='\\t')\n",
    "bodysite_list = merged_sample_metadata_df['BodySite'].unique().tolist()\n",
    "\n",
    "for key,value in microbiota_taxonomy_type_dict.items():\n",
    "    composition_df = pd.read_csv(os.path.join(merged_composition_dir, 'level-' + str(value) + '.csv'))\n",
    "    composition_df.rename(columns={composition_df.columns[0]: 'd__SampleID'}, inplace=True)\n",
    "    col_selected_list = [item for item in composition_df.columns.to_list() if item.startswith('d__') and  not item.endswith('__')]\n",
    "    composition_df = composition_df.loc[:,col_selected_list]\n",
    "    col_new = [item.split(';')[-1][3:] for item in col_selected_list]\n",
    "    composition_df.columns = col_new\n",
    "    composition_df = pd.merge(merged_sample_metadata_df[['SampleID','BodysiteClass']], composition_df, on='SampleID', how='inner')\n",
    "    composition_df.drop('SampleID', axis=1, inplace=True)    \n",
    "    composition_df = composition_df.groupby(['BodysiteClass']).mean().reset_index()\n",
    "    composition_df.to_csv(os.path.join(merged_composition_by_bodysite_dir, key + '_composition.csv'), index = False)\n"
   ]
  }
 ],
 "metadata": {
  "kernelspec": {
   "display_name": "qiime2-2023.7",
   "language": "python",
   "name": "python3"
  },
  "language_info": {
   "codemirror_mode": {
    "name": "ipython",
    "version": 3
   },
   "file_extension": ".py",
   "mimetype": "text/x-python",
   "name": "python",
   "nbconvert_exporter": "python",
   "pygments_lexer": "ipython3",
   "version": "3.8.15"
  }
 },
 "nbformat": 4,
 "nbformat_minor": 5
}
